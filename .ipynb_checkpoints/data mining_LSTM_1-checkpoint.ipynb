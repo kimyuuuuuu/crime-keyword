{
 "cells": [
  {
   "cell_type": "code",
   "execution_count": 4,
   "id": "b7a01185",
   "metadata": {},
   "outputs": [
    {
     "name": "stdout",
     "output_type": "stream",
     "text": [
      "Collecting yfinance\n",
      "  Downloading yfinance-0.2.37-py2.py3-none-any.whl (72 kB)\n",
      "     ---------------------------------------- 73.0/73.0 kB 4.2 MB/s eta 0:00:00\n",
      "Collecting html5lib>=1.1\n",
      "  Downloading html5lib-1.1-py2.py3-none-any.whl (112 kB)\n",
      "     -------------------------------------- 112.2/112.2 kB 6.4 MB/s eta 0:00:00\n",
      "Requirement already satisfied: beautifulsoup4>=4.11.1 in c:\\users\\lab-321\\anaconda3\\lib\\site-packages (from yfinance) (4.11.1)\n",
      "Collecting multitasking>=0.0.7\n",
      "  Downloading multitasking-0.0.11-py3-none-any.whl (8.5 kB)\n",
      "Requirement already satisfied: pandas>=1.3.0 in c:\\users\\lab-321\\anaconda3\\lib\\site-packages (from yfinance) (1.5.3)\n",
      "Requirement already satisfied: numpy>=1.16.5 in c:\\users\\lab-321\\anaconda3\\lib\\site-packages (from yfinance) (1.23.5)\n",
      "Requirement already satisfied: pytz>=2022.5 in c:\\users\\lab-321\\anaconda3\\lib\\site-packages (from yfinance) (2022.7)\n",
      "Collecting frozendict>=2.3.4\n",
      "  Downloading frozendict-2.4.1-cp310-cp310-win_amd64.whl (36 kB)\n",
      "Collecting requests>=2.31\n",
      "  Downloading requests-2.31.0-py3-none-any.whl (62 kB)\n",
      "     ---------------------------------------- 62.6/62.6 kB ? eta 0:00:00\n",
      "Requirement already satisfied: lxml>=4.9.1 in c:\\users\\lab-321\\anaconda3\\lib\\site-packages (from yfinance) (4.9.1)\n",
      "Collecting peewee>=3.16.2\n",
      "  Downloading peewee-3.17.1.tar.gz (3.0 MB)\n",
      "     ---------------------------------------- 3.0/3.0 MB 11.8 MB/s eta 0:00:00\n",
      "  Installing build dependencies: started\n",
      "  Installing build dependencies: finished with status 'done'\n",
      "  Getting requirements to build wheel: started\n",
      "  Getting requirements to build wheel: finished with status 'done'\n",
      "  Preparing metadata (pyproject.toml): started\n",
      "  Preparing metadata (pyproject.toml): finished with status 'done'\n",
      "Requirement already satisfied: appdirs>=1.4.4 in c:\\users\\lab-321\\anaconda3\\lib\\site-packages (from yfinance) (1.4.4)\n",
      "Requirement already satisfied: soupsieve>1.2 in c:\\users\\lab-321\\anaconda3\\lib\\site-packages (from beautifulsoup4>=4.11.1->yfinance) (2.3.2.post1)\n",
      "Requirement already satisfied: six>=1.9 in c:\\users\\lab-321\\anaconda3\\lib\\site-packages (from html5lib>=1.1->yfinance) (1.16.0)\n",
      "Requirement already satisfied: webencodings in c:\\users\\lab-321\\anaconda3\\lib\\site-packages (from html5lib>=1.1->yfinance) (0.5.1)\n",
      "Requirement already satisfied: python-dateutil>=2.8.1 in c:\\users\\lab-321\\anaconda3\\lib\\site-packages (from pandas>=1.3.0->yfinance) (2.8.2)\n",
      "Requirement already satisfied: urllib3<3,>=1.21.1 in c:\\users\\lab-321\\anaconda3\\lib\\site-packages (from requests>=2.31->yfinance) (1.26.14)\n",
      "Requirement already satisfied: charset-normalizer<4,>=2 in c:\\users\\lab-321\\anaconda3\\lib\\site-packages (from requests>=2.31->yfinance) (2.0.4)\n",
      "Requirement already satisfied: idna<4,>=2.5 in c:\\users\\lab-321\\anaconda3\\lib\\site-packages (from requests>=2.31->yfinance) (3.4)\n",
      "Requirement already satisfied: certifi>=2017.4.17 in c:\\users\\lab-321\\anaconda3\\lib\\site-packages (from requests>=2.31->yfinance) (2023.7.22)\n",
      "Building wheels for collected packages: peewee\n",
      "  Building wheel for peewee (pyproject.toml): started\n",
      "  Building wheel for peewee (pyproject.toml): finished with status 'done'\n",
      "  Created wheel for peewee: filename=peewee-3.17.1-py3-none-any.whl size=136948 sha256=40cd5a6b67c588491ff9d6036586f03de255b33b9071c224f608be94ceb2d848\n",
      "  Stored in directory: c:\\users\\lab-321\\appdata\\local\\pip\\cache\\wheels\\f3\\60\\5b\\41a9bbd32037a7211f550249f5dc798e55c20d42c49deeaf25\n",
      "Successfully built peewee\n",
      "Installing collected packages: peewee, multitasking, requests, html5lib, frozendict, yfinance\n",
      "  Attempting uninstall: requests\n",
      "    Found existing installation: requests 2.28.1\n",
      "    Uninstalling requests-2.28.1:\n",
      "      Successfully uninstalled requests-2.28.1\n",
      "Successfully installed frozendict-2.4.1 html5lib-1.1 multitasking-0.0.11 peewee-3.17.1 requests-2.31.0 yfinance-0.2.37\n"
     ]
    },
    {
     "name": "stderr",
     "output_type": "stream",
     "text": [
      "ERROR: pip's dependency resolver does not currently take into account all the packages that are installed. This behaviour is the source of the following dependency conflicts.\n",
      "conda-repo-cli 1.0.41 requires requests_mock, which is not installed.\n",
      "tensorboard 2.10.0 requires protobuf<3.20,>=3.9.2, but you have protobuf 3.20.3 which is incompatible.\n",
      "conda-repo-cli 1.0.41 requires clyent==1.2.1, but you have clyent 1.2.2 which is incompatible.\n",
      "conda-repo-cli 1.0.41 requires nbformat==5.4.0, but you have nbformat 5.7.0 which is incompatible.\n",
      "conda-repo-cli 1.0.41 requires requests==2.28.1, but you have requests 2.31.0 which is incompatible.\n"
     ]
    }
   ],
   "source": [
    "!pip install yfinance"
   ]
  },
  {
   "cell_type": "code",
   "execution_count": 5,
   "id": "ea0d6410",
   "metadata": {},
   "outputs": [],
   "source": [
    "import numpy as np\n",
    "import pandas as pd\n",
    "import matplotlib.pyplot as plt\n",
    "import yfinance as yf\n",
    "import tensorflow as tf"
   ]
  },
  {
   "cell_type": "code",
   "execution_count": 6,
   "id": "f9e67b44",
   "metadata": {},
   "outputs": [
    {
     "name": "stdout",
     "output_type": "stream",
     "text": [
      "                                 Close\n",
      "Date                                  \n",
      "2004-04-06 00:00:00+09:00   906.190002\n",
      "2004-04-07 00:00:00+09:00   909.929993\n",
      "2004-04-08 00:00:00+09:00   916.859985\n",
      "2004-04-09 00:00:00+09:00   905.440002\n",
      "2004-04-12 00:00:00+09:00   918.859985\n",
      "...                                ...\n",
      "2024-03-28 00:00:00+09:00  2745.820068\n",
      "2024-03-29 00:00:00+09:00  2746.629883\n",
      "2024-04-01 00:00:00+09:00  2747.860107\n",
      "2024-04-02 00:00:00+09:00  2753.159912\n",
      "2024-04-03 00:00:00+09:00  2706.969971\n",
      "\n",
      "[4941 rows x 1 columns]\n"
     ]
    }
   ],
   "source": [
    "code = '^KS11'  # KOSPI Composite Index\n",
    "kospi = yf.Ticker(code)\n",
    "kospi = kospi.history(period='20y')\n",
    "kospi = kospi[['Close']]\n",
    "print(kospi)"
   ]
  },
  {
   "cell_type": "code",
   "execution_count": 7,
   "id": "b6c13a1d",
   "metadata": {},
   "outputs": [],
   "source": [
    "dates = kospi.Close.index\n",
    "X = np.arange(len(dates)).reshape(-1, 1)\n",
    "y = kospi.Close.values\n",
    "y = y.reshape(-1, 1)"
   ]
  },
  {
   "cell_type": "code",
   "execution_count": 8,
   "id": "70262cd0",
   "metadata": {},
   "outputs": [],
   "source": [
    "y_std = y.std()\n",
    "y_mean = y.mean()\n",
    "y = (y - y_mean) / y_std"
   ]
  },
  {
   "cell_type": "code",
   "execution_count": 9,
   "id": "6d1d0a55",
   "metadata": {},
   "outputs": [],
   "source": [
    "test_period = 10\n",
    "\n",
    "X_train = X[:-test_period]\n",
    "y_train = y[:-test_period]\n",
    "X_test = X[-test_period:]\n",
    "y_test = y[-test_period:]"
   ]
  },
  {
   "cell_type": "code",
   "execution_count": 10,
   "id": "dd4c7528",
   "metadata": {},
   "outputs": [],
   "source": [
    "from sklearn.model_selection import train_test_split\n",
    "X_train, X_val, y_train, y_val = train_test_split(X_train, y_train, test_size=0.3, random_state=0)"
   ]
  },
  {
   "cell_type": "code",
   "execution_count": 11,
   "id": "e7a917f6",
   "metadata": {},
   "outputs": [],
   "source": [
    "X = X.reshape(-1, 1, 1)\n",
    "X_train = X_train.reshape(-1, 1, 1)\n",
    "X_val = X_val.reshape(-1, 1, 1)\n",
    "X_test = X_test.reshape(-1, 1, 1)"
   ]
  },
  {
   "cell_type": "code",
   "execution_count": 12,
   "id": "e51fcd93",
   "metadata": {},
   "outputs": [
    {
     "name": "stdout",
     "output_type": "stream",
     "text": [
      "Model: \"sequential\"\n",
      "_________________________________________________________________\n",
      " Layer (type)                Output Shape              Param #   \n",
      "=================================================================\n",
      " lstm (LSTM)                 (None, 8)                 320       \n",
      "                                                                 \n",
      " dense (Dense)               (None, 4)                 36        \n",
      "                                                                 \n",
      " dense_1 (Dense)             (None, 1)                 5         \n",
      "                                                                 \n",
      "=================================================================\n",
      "Total params: 361\n",
      "Trainable params: 361\n",
      "Non-trainable params: 0\n",
      "_________________________________________________________________\n",
      "None\n"
     ]
    }
   ],
   "source": [
    "model = tf.keras.models.Sequential([\n",
    "    tf.keras.layers.LSTM(8, input_shape=(None, 1)),\n",
    "    tf.keras.layers.Dense(4),\n",
    "    tf.keras.layers.Dense(1)])\n",
    "\n",
    "model.compile(optimizer='adam', loss='mse')\n",
    "print(model.summary())"
   ]
  },
  {
   "cell_type": "code",
   "execution_count": 13,
   "id": "5909bacb",
   "metadata": {},
   "outputs": [
    {
     "name": "stdout",
     "output_type": "stream",
     "text": [
      "Epoch 1/15\n",
      "108/108 [==============================] - 3s 6ms/step - loss: 1.0106 - val_loss: 0.8784\n",
      "Epoch 2/15\n",
      "108/108 [==============================] - 0s 2ms/step - loss: 0.8477 - val_loss: 0.7488\n",
      "Epoch 3/15\n",
      "108/108 [==============================] - 0s 2ms/step - loss: 0.6831 - val_loss: 0.5883\n",
      "Epoch 4/15\n",
      "108/108 [==============================] - 0s 2ms/step - loss: 0.5644 - val_loss: 0.4476\n",
      "Epoch 5/15\n",
      "108/108 [==============================] - 0s 2ms/step - loss: 0.3959 - val_loss: 0.4820\n",
      "Epoch 6/15\n",
      "108/108 [==============================] - 0s 2ms/step - loss: 0.3662 - val_loss: 0.3089\n",
      "Epoch 7/15\n",
      "108/108 [==============================] - 0s 2ms/step - loss: 0.3323 - val_loss: 0.3637\n",
      "Epoch 8/15\n",
      "108/108 [==============================] - 0s 2ms/step - loss: 0.3071 - val_loss: 0.4903\n",
      "Epoch 9/15\n",
      "108/108 [==============================] - 0s 2ms/step - loss: 0.3352 - val_loss: 0.3839\n",
      "Epoch 10/15\n",
      "108/108 [==============================] - 0s 2ms/step - loss: 0.2915 - val_loss: 0.2831\n",
      "Epoch 11/15\n",
      "108/108 [==============================] - 0s 2ms/step - loss: 0.3369 - val_loss: 0.2630\n",
      "Epoch 12/15\n",
      "108/108 [==============================] - 0s 2ms/step - loss: 0.2759 - val_loss: 0.2684\n",
      "Epoch 13/15\n",
      "108/108 [==============================] - 0s 2ms/step - loss: 0.2682 - val_loss: 0.3377\n",
      "Epoch 14/15\n",
      "108/108 [==============================] - 0s 2ms/step - loss: 0.2494 - val_loss: 0.2248\n",
      "Epoch 15/15\n",
      "108/108 [==============================] - 0s 2ms/step - loss: 0.2727 - val_loss: 0.2424\n"
     ]
    }
   ],
   "source": [
    "hist = model.fit(X_train, y_train, epochs=15, batch_size=32, validation_data=(X_val, y_val))"
   ]
  },
  {
   "cell_type": "code",
   "execution_count": 14,
   "id": "765de789",
   "metadata": {},
   "outputs": [
    {
     "data": {
      "image/png": "[encoded data removed]",
      "text/plain": [
       "<Figure size 640x480 with 1 Axes>"
      ]
     },
     "metadata": {},
     "output_type": "display_data"
    }
   ],
   "source": [
    "plt.plot(hist.history['loss'])\n",
    "plt.plot(hist.history['val_loss'])\n",
    "plt.ylabel('loss')\n",
    "plt.xlabel('epoch')\n",
    "plt.legend(['train', 'val'], loc='upper left')\n",
    "plt.show()"
   ]
  },
  {
   "cell_type": "code",
   "execution_count": 15,
   "id": "8d94de22",
   "metadata": {},
   "outputs": [
    {
     "name": "stdout",
     "output_type": "stream",
     "text": [
      "Train Score:  0.23265813291072845\n",
      "Validataion Score:  0.24241015315055847\n",
      "Test Score:  0.4086831212043762\n"
     ]
    }
   ],
   "source": [
    "trainScore = model.evaluate(X_train, y_train, verbose=0)\n",
    "valScore = model.evaluate(X_val, y_val, verbose=0)\n",
    "testScore = model.evaluate(X_test, y_test, verbose=0)\n",
    "\n",
    "print('Train Score: ', trainScore)\n",
    "print('Validataion Score: ', valScore)\n",
    "print('Test Score: ', testScore)"
   ]
  },
  {
   "cell_type": "code",
   "execution_count": null,
   "id": "6fcf1bd0",
   "metadata": {},
   "outputs": [],
   "source": []
  }
 ],
 "metadata": {
  "kernelspec": {
   "display_name": "Python 3 (ipykernel)",
   "language": "python",
   "name": "python3"
  },
  "language_info": {
   "codemirror_mode": {
    "name": "ipython",
    "version": 3
   },
   "file_extension": ".py",
   "mimetype": "text/x-python",
   "name": "python",
   "nbconvert_exporter": "python",
   "pygments_lexer": "ipython3",
   "version": "3.10.9"
  }
 },
 "nbformat": 4,
 "nbformat_minor": 5
}
